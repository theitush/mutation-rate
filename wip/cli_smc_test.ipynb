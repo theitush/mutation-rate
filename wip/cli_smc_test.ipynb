{
 "cells": [
  {
   "cell_type": "code",
   "execution_count": 1,
   "id": "representative-sheep",
   "metadata": {},
   "outputs": [
    {
     "name": "stderr",
     "output_type": "stream",
     "text": [
      "\n",
      "Bad key \"text.kerning_factor\" on line 4 in\n",
      "/home/itush/miniconda3/lib/python3.7/site-packages/matplotlib/mpl-data/stylelib/_classic_test_patch.mplstyle.\n",
      "You probably need to get an updated matplotlibrc file from\n",
      "https://github.com/matplotlib/matplotlib/blob/v3.1.3/matplotlibrc.template\n",
      "or from the matplotlib source distribution\n"
     ]
    }
   ],
   "source": [
    "import sys\n",
    "sys.path.append('..')\n",
    "from modeling import cli_smc_on_line"
   ]
  },
  {
   "cell_type": "code",
   "execution_count": 2,
   "id": "accredited-mention",
   "metadata": {},
   "outputs": [
    {
     "name": "stderr",
     "output_type": "stream",
     "text": [
      "INFO:Sampler:Parallelizing the sampling on 8 cores.\n",
      "INFO:History:Start <ABCSMC(id=1, start_time=2021-03-30 13:46:03.340760, end_time=None)>\n",
      "INFO:ABC:Calibration sample before t=0.\n"
     ]
    },
    {
     "name": "stdout",
     "output_type": "stream",
     "text": [
      "Inferring with mega distance function\n"
     ]
    },
    {
     "name": "stderr",
     "output_type": "stream",
     "text": [
      "INFO:Epsilon:initial epsilon is 0.005005774780741022\n",
      "INFO:ABC:t: 0, eps: 0.005005774780741022.\n",
      "INFO:ABC:Acceptance rate: 1000 / 1866 = 5.3591e-01, ESS=1.0000e+03.\n",
      "INFO:ABC:t: 1, eps: 0.0007592252192589741.\n",
      "INFO:ABC:Acceptance rate: 1000 / 1952 = 5.1230e-01, ESS=9.6692e+02.\n",
      "INFO:ABC:t: 2, eps: 0.0005092252192589741.\n",
      "INFO:ABC:Acceptance rate: 1000 / 2201 = 4.5434e-01, ESS=9.6814e+02.\n",
      "INFO:ABC:t: 3, eps: 0.00035922521925897417.\n",
      "INFO:ABC:Acceptance rate: 1000 / 2454 = 4.0750e-01, ESS=9.6918e+02.\n",
      "INFO:ABC:t: 4, eps: 0.00027280787766774026.\n",
      "INFO:ABC:Acceptance rate: 1000 / 3370 = 2.9674e-01, ESS=8.6040e+02.\n",
      "INFO:History:Done <ABCSMC(id=1, start_time=2021-03-30 13:46:03.340760, end_time=2021-03-30 13:46:34.704065)>\n"
     ]
    },
    {
     "name": "stdout",
     "output_type": "stream",
     "text": [
      "SMC run time:  31.51\n",
      "Total number of SMC simulations:  12843\n"
     ]
    }
   ],
   "source": [
    "cli_smc_on_line('test_df.tsv', 42, 'output_path', max_episodes=5)"
   ]
  },
  {
   "cell_type": "code",
   "execution_count": 3,
   "id": "herbal-identification",
   "metadata": {},
   "outputs": [],
   "source": [
    "import pandas as pd"
   ]
  },
  {
   "cell_type": "code",
   "execution_count": 4,
   "id": "motivated-library",
   "metadata": {},
   "outputs": [],
   "source": [
    "df = pd.read_table('output_path/435.0')"
   ]
  },
  {
   "cell_type": "code",
   "execution_count": 5,
   "id": "isolated-absorption",
   "metadata": {},
   "outputs": [
    {
     "data": {
      "text/html": [
       "<div>\n",
       "<style scoped>\n",
       "    .dataframe tbody tr th:only-of-type {\n",
       "        vertical-align: middle;\n",
       "    }\n",
       "\n",
       "    .dataframe tbody tr th {\n",
       "        vertical-align: top;\n",
       "    }\n",
       "\n",
       "    .dataframe thead th {\n",
       "        text-align: right;\n",
       "    }\n",
       "</style>\n",
       "<table border=\"1\" class=\"dataframe\">\n",
       "  <thead>\n",
       "    <tr style=\"text-align: right;\">\n",
       "      <th></th>\n",
       "      <th>id</th>\n",
       "      <th>mu</th>\n",
       "      <th>w</th>\n",
       "      <th>weights</th>\n",
       "    </tr>\n",
       "  </thead>\n",
       "  <tbody>\n",
       "    <tr>\n",
       "      <th>0</th>\n",
       "      <td>4002</td>\n",
       "      <td>-5.890946</td>\n",
       "      <td>0.884862</td>\n",
       "      <td>0.000895</td>\n",
       "    </tr>\n",
       "    <tr>\n",
       "      <th>1</th>\n",
       "      <td>4003</td>\n",
       "      <td>-4.991119</td>\n",
       "      <td>0.901598</td>\n",
       "      <td>0.000796</td>\n",
       "    </tr>\n",
       "    <tr>\n",
       "      <th>2</th>\n",
       "      <td>4004</td>\n",
       "      <td>-5.078010</td>\n",
       "      <td>0.869134</td>\n",
       "      <td>0.000728</td>\n",
       "    </tr>\n",
       "    <tr>\n",
       "      <th>3</th>\n",
       "      <td>4005</td>\n",
       "      <td>-6.951921</td>\n",
       "      <td>0.877694</td>\n",
       "      <td>0.001544</td>\n",
       "    </tr>\n",
       "    <tr>\n",
       "      <th>4</th>\n",
       "      <td>4006</td>\n",
       "      <td>-4.729871</td>\n",
       "      <td>0.846836</td>\n",
       "      <td>0.000720</td>\n",
       "    </tr>\n",
       "    <tr>\n",
       "      <th>...</th>\n",
       "      <td>...</td>\n",
       "      <td>...</td>\n",
       "      <td>...</td>\n",
       "      <td>...</td>\n",
       "    </tr>\n",
       "    <tr>\n",
       "      <th>995</th>\n",
       "      <td>4997</td>\n",
       "      <td>-4.184755</td>\n",
       "      <td>0.735979</td>\n",
       "      <td>0.000805</td>\n",
       "    </tr>\n",
       "    <tr>\n",
       "      <th>996</th>\n",
       "      <td>4998</td>\n",
       "      <td>-4.100228</td>\n",
       "      <td>0.657785</td>\n",
       "      <td>0.000897</td>\n",
       "    </tr>\n",
       "    <tr>\n",
       "      <th>997</th>\n",
       "      <td>4999</td>\n",
       "      <td>-6.739620</td>\n",
       "      <td>0.877287</td>\n",
       "      <td>0.001013</td>\n",
       "    </tr>\n",
       "    <tr>\n",
       "      <th>998</th>\n",
       "      <td>5000</td>\n",
       "      <td>-4.538921</td>\n",
       "      <td>0.731541</td>\n",
       "      <td>0.000943</td>\n",
       "    </tr>\n",
       "    <tr>\n",
       "      <th>999</th>\n",
       "      <td>5001</td>\n",
       "      <td>-4.353847</td>\n",
       "      <td>0.761975</td>\n",
       "      <td>0.000749</td>\n",
       "    </tr>\n",
       "  </tbody>\n",
       "</table>\n",
       "<p>1000 rows × 4 columns</p>\n",
       "</div>"
      ],
      "text/plain": [
       "       id        mu         w   weights\n",
       "0    4002 -5.890946  0.884862  0.000895\n",
       "1    4003 -4.991119  0.901598  0.000796\n",
       "2    4004 -5.078010  0.869134  0.000728\n",
       "3    4005 -6.951921  0.877694  0.001544\n",
       "4    4006 -4.729871  0.846836  0.000720\n",
       "..    ...       ...       ...       ...\n",
       "995  4997 -4.184755  0.735979  0.000805\n",
       "996  4998 -4.100228  0.657785  0.000897\n",
       "997  4999 -6.739620  0.877287  0.001013\n",
       "998  5000 -4.538921  0.731541  0.000943\n",
       "999  5001 -4.353847  0.761975  0.000749\n",
       "\n",
       "[1000 rows x 4 columns]"
      ]
     },
     "execution_count": 5,
     "metadata": {},
     "output_type": "execute_result"
    }
   ],
   "source": [
    "df"
   ]
  },
  {
   "cell_type": "code",
   "execution_count": 6,
   "id": "exceptional-symbol",
   "metadata": {},
   "outputs": [
    {
     "data": {
      "text/plain": [
       "0.8341633271152753"
      ]
     },
     "execution_count": 6,
     "metadata": {},
     "output_type": "execute_result"
    }
   ],
   "source": [
    "df.w.mean()"
   ]
  },
  {
   "cell_type": "code",
   "execution_count": 7,
   "id": "organized-length",
   "metadata": {},
   "outputs": [
    {
     "data": {
      "text/html": [
       "<div>\n",
       "<style scoped>\n",
       "    .dataframe tbody tr th:only-of-type {\n",
       "        vertical-align: middle;\n",
       "    }\n",
       "\n",
       "    .dataframe tbody tr th {\n",
       "        vertical-align: top;\n",
       "    }\n",
       "\n",
       "    .dataframe thead th {\n",
       "        text-align: right;\n",
       "    }\n",
       "</style>\n",
       "<table border=\"1\" class=\"dataframe\">\n",
       "  <thead>\n",
       "    <tr style=\"text-align: right;\">\n",
       "      <th></th>\n",
       "      <th>id</th>\n",
       "      <th>mu</th>\n",
       "      <th>w</th>\n",
       "      <th>weights</th>\n",
       "    </tr>\n",
       "  </thead>\n",
       "  <tbody>\n",
       "    <tr>\n",
       "      <th>0</th>\n",
       "      <td>4002</td>\n",
       "      <td>-5.890946</td>\n",
       "      <td>0.884862</td>\n",
       "      <td>0.000895</td>\n",
       "    </tr>\n",
       "    <tr>\n",
       "      <th>1</th>\n",
       "      <td>4003</td>\n",
       "      <td>-4.991119</td>\n",
       "      <td>0.901598</td>\n",
       "      <td>0.000796</td>\n",
       "    </tr>\n",
       "    <tr>\n",
       "      <th>2</th>\n",
       "      <td>4004</td>\n",
       "      <td>-5.078010</td>\n",
       "      <td>0.869134</td>\n",
       "      <td>0.000728</td>\n",
       "    </tr>\n",
       "    <tr>\n",
       "      <th>3</th>\n",
       "      <td>4005</td>\n",
       "      <td>-6.951921</td>\n",
       "      <td>0.877694</td>\n",
       "      <td>0.001544</td>\n",
       "    </tr>\n",
       "    <tr>\n",
       "      <th>4</th>\n",
       "      <td>4006</td>\n",
       "      <td>-4.729871</td>\n",
       "      <td>0.846836</td>\n",
       "      <td>0.000720</td>\n",
       "    </tr>\n",
       "    <tr>\n",
       "      <th>...</th>\n",
       "      <td>...</td>\n",
       "      <td>...</td>\n",
       "      <td>...</td>\n",
       "      <td>...</td>\n",
       "    </tr>\n",
       "    <tr>\n",
       "      <th>995</th>\n",
       "      <td>4997</td>\n",
       "      <td>-4.184755</td>\n",
       "      <td>0.735979</td>\n",
       "      <td>0.000805</td>\n",
       "    </tr>\n",
       "    <tr>\n",
       "      <th>996</th>\n",
       "      <td>4998</td>\n",
       "      <td>-4.100228</td>\n",
       "      <td>0.657785</td>\n",
       "      <td>0.000897</td>\n",
       "    </tr>\n",
       "    <tr>\n",
       "      <th>997</th>\n",
       "      <td>4999</td>\n",
       "      <td>-6.739620</td>\n",
       "      <td>0.877287</td>\n",
       "      <td>0.001013</td>\n",
       "    </tr>\n",
       "    <tr>\n",
       "      <th>998</th>\n",
       "      <td>5000</td>\n",
       "      <td>-4.538921</td>\n",
       "      <td>0.731541</td>\n",
       "      <td>0.000943</td>\n",
       "    </tr>\n",
       "    <tr>\n",
       "      <th>999</th>\n",
       "      <td>5001</td>\n",
       "      <td>-4.353847</td>\n",
       "      <td>0.761975</td>\n",
       "      <td>0.000749</td>\n",
       "    </tr>\n",
       "  </tbody>\n",
       "</table>\n",
       "<p>1000 rows × 4 columns</p>\n",
       "</div>"
      ],
      "text/plain": [
       "       id        mu         w   weights\n",
       "0    4002 -5.890946  0.884862  0.000895\n",
       "1    4003 -4.991119  0.901598  0.000796\n",
       "2    4004 -5.078010  0.869134  0.000728\n",
       "3    4005 -6.951921  0.877694  0.001544\n",
       "4    4006 -4.729871  0.846836  0.000720\n",
       "..    ...       ...       ...       ...\n",
       "995  4997 -4.184755  0.735979  0.000805\n",
       "996  4998 -4.100228  0.657785  0.000897\n",
       "997  4999 -6.739620  0.877287  0.001013\n",
       "998  5000 -4.538921  0.731541  0.000943\n",
       "999  5001 -4.353847  0.761975  0.000749\n",
       "\n",
       "[1000 rows x 4 columns]"
      ]
     },
     "execution_count": 7,
     "metadata": {},
     "output_type": "execute_result"
    }
   ],
   "source": [
    "df"
   ]
  },
  {
   "cell_type": "code",
   "execution_count": 8,
   "id": "stupid-catch",
   "metadata": {},
   "outputs": [
    {
     "data": {
      "text/plain": [
       "-5.221744001742371"
      ]
     },
     "execution_count": 8,
     "metadata": {},
     "output_type": "execute_result"
    }
   ],
   "source": [
    "df.mu.mean()"
   ]
  }
 ],
 "metadata": {
  "kernelspec": {
   "display_name": "Python 3",
   "language": "python",
   "name": "python3"
  },
  "language_info": {
   "codemirror_mode": {
    "name": "ipython",
    "version": 3
   },
   "file_extension": ".py",
   "mimetype": "text/x-python",
   "name": "python",
   "nbconvert_exporter": "python",
   "pygments_lexer": "ipython3",
   "version": "3.7.6"
  }
 },
 "nbformat": 4,
 "nbformat_minor": 5
}
