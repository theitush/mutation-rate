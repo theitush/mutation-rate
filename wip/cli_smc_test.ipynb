{
 "cells": [
  {
   "cell_type": "code",
   "execution_count": 1,
   "id": "representative-sheep",
   "metadata": {},
   "outputs": [
    {
     "name": "stderr",
     "output_type": "stream",
     "text": [
      "\n",
      "Bad key \"text.kerning_factor\" on line 4 in\n",
      "/home/itush/miniconda3/lib/python3.7/site-packages/matplotlib/mpl-data/stylelib/_classic_test_patch.mplstyle.\n",
      "You probably need to get an updated matplotlibrc file from\n",
      "https://github.com/matplotlib/matplotlib/blob/v3.1.3/matplotlibrc.template\n",
      "or from the matplotlib source distribution\n"
     ]
    }
   ],
   "source": [
    "import sys\n",
    "sys.path.append('..')\n",
    "from modeling import cli_smc_on_line"
   ]
  },
  {
   "cell_type": "code",
   "execution_count": 2,
   "id": "accredited-mention",
   "metadata": {},
   "outputs": [
    {
     "name": "stderr",
     "output_type": "stream",
     "text": [
      "INFO:Sampler:Parallelizing the sampling on 8 cores.\n",
      "INFO:History:Start <ABCSMC(id=6, start_time=2021-03-25 18:12:01.247775, end_time=None)>\n",
      "INFO:ABC:Calibration sample before t=0.\n"
     ]
    },
    {
     "name": "stdout",
     "output_type": "stream",
     "text": [
      "Inferring with mega distance function\n"
     ]
    },
    {
     "name": "stderr",
     "output_type": "stream",
     "text": [
      "INFO:Epsilon:initial epsilon is 0.0036957747807410224\n",
      "INFO:ABC:t: 0, eps: 0.0036957747807410224.\n",
      "INFO:ABC:Acceptance rate: 1000 / 2068 = 4.8356e-01, ESS=1.0000e+03.\n",
      "INFO:ABC:t: 1, eps: 0.0007392252192589741.\n",
      "INFO:ABC:Acceptance rate: 1000 / 1931 = 5.1787e-01, ESS=9.5008e+02.\n",
      "INFO:ABC:t: 2, eps: 0.0004892252192589741.\n",
      "INFO:ABC:Acceptance rate: 1000 / 2319 = 4.3122e-01, ESS=9.7481e+02.\n",
      "INFO:ABC:t: 3, eps: 0.00033280787766774026.\n",
      "INFO:ABC:Acceptance rate: 1000 / 2510 = 3.9841e-01, ESS=9.2464e+02.\n",
      "INFO:ABC:t: 4, eps: 0.0002592252192589741.\n",
      "INFO:ABC:Acceptance rate: 1000 / 3832 = 2.6096e-01, ESS=8.4958e+02.\n",
      "INFO:History:Done <ABCSMC(id=6, start_time=2021-03-25 18:12:01.247775, end_time=2021-03-25 18:12:36.823456)>\n"
     ]
    },
    {
     "name": "stdout",
     "output_type": "stream",
     "text": [
      "SMC run time:  35.63\n",
      "Total number of SMC simulations:  13660\n"
     ]
    }
   ],
   "source": [
    "cli_smc_on_line('test_df.tsv', 42, 'output_path', max_episodes=5)"
   ]
  },
  {
   "cell_type": "code",
   "execution_count": 3,
   "id": "herbal-identification",
   "metadata": {},
   "outputs": [],
   "source": [
    "import pandas as pd"
   ]
  },
  {
   "cell_type": "code",
   "execution_count": 4,
   "id": "motivated-library",
   "metadata": {},
   "outputs": [],
   "source": [
    "df = pd.read_table('output_path/435.0')"
   ]
  },
  {
   "cell_type": "code",
   "execution_count": 5,
   "id": "exceptional-symbol",
   "metadata": {},
   "outputs": [
    {
     "data": {
      "text/plain": [
       "0.851079065336778"
      ]
     },
     "execution_count": 5,
     "metadata": {},
     "output_type": "execute_result"
    }
   ],
   "source": [
    "df.w.mean()"
   ]
  },
  {
   "cell_type": "code",
   "execution_count": 6,
   "id": "organized-length",
   "metadata": {},
   "outputs": [
    {
     "data": {
      "text/html": [
       "<div>\n",
       "<style scoped>\n",
       "    .dataframe tbody tr th:only-of-type {\n",
       "        vertical-align: middle;\n",
       "    }\n",
       "\n",
       "    .dataframe tbody tr th {\n",
       "        vertical-align: top;\n",
       "    }\n",
       "\n",
       "    .dataframe thead th {\n",
       "        text-align: right;\n",
       "    }\n",
       "</style>\n",
       "<table border=\"1\" class=\"dataframe\">\n",
       "  <thead>\n",
       "    <tr style=\"text-align: right;\">\n",
       "      <th></th>\n",
       "      <th>id</th>\n",
       "      <th>mu</th>\n",
       "      <th>w</th>\n",
       "      <th>weights</th>\n",
       "    </tr>\n",
       "  </thead>\n",
       "  <tbody>\n",
       "    <tr>\n",
       "      <th>0</th>\n",
       "      <td>16007</td>\n",
       "      <td>-6.427658</td>\n",
       "      <td>0.846737</td>\n",
       "      <td>0.001047</td>\n",
       "    </tr>\n",
       "    <tr>\n",
       "      <th>1</th>\n",
       "      <td>16008</td>\n",
       "      <td>-5.011803</td>\n",
       "      <td>0.902401</td>\n",
       "      <td>0.000839</td>\n",
       "    </tr>\n",
       "    <tr>\n",
       "      <th>2</th>\n",
       "      <td>16009</td>\n",
       "      <td>-4.239903</td>\n",
       "      <td>0.827656</td>\n",
       "      <td>0.000867</td>\n",
       "    </tr>\n",
       "    <tr>\n",
       "      <th>3</th>\n",
       "      <td>16010</td>\n",
       "      <td>-5.597021</td>\n",
       "      <td>0.807081</td>\n",
       "      <td>0.001442</td>\n",
       "    </tr>\n",
       "    <tr>\n",
       "      <th>4</th>\n",
       "      <td>16011</td>\n",
       "      <td>-5.001607</td>\n",
       "      <td>0.820917</td>\n",
       "      <td>0.000969</td>\n",
       "    </tr>\n",
       "    <tr>\n",
       "      <th>...</th>\n",
       "      <td>...</td>\n",
       "      <td>...</td>\n",
       "      <td>...</td>\n",
       "      <td>...</td>\n",
       "    </tr>\n",
       "    <tr>\n",
       "      <th>995</th>\n",
       "      <td>17002</td>\n",
       "      <td>-6.269480</td>\n",
       "      <td>0.934666</td>\n",
       "      <td>0.000883</td>\n",
       "    </tr>\n",
       "    <tr>\n",
       "      <th>996</th>\n",
       "      <td>17003</td>\n",
       "      <td>-6.587575</td>\n",
       "      <td>0.903803</td>\n",
       "      <td>0.000921</td>\n",
       "    </tr>\n",
       "    <tr>\n",
       "      <th>997</th>\n",
       "      <td>17004</td>\n",
       "      <td>-4.355379</td>\n",
       "      <td>0.749051</td>\n",
       "      <td>0.000818</td>\n",
       "    </tr>\n",
       "    <tr>\n",
       "      <th>998</th>\n",
       "      <td>17005</td>\n",
       "      <td>-4.091867</td>\n",
       "      <td>0.665115</td>\n",
       "      <td>0.001135</td>\n",
       "    </tr>\n",
       "    <tr>\n",
       "      <th>999</th>\n",
       "      <td>17006</td>\n",
       "      <td>-4.786143</td>\n",
       "      <td>0.903272</td>\n",
       "      <td>0.000844</td>\n",
       "    </tr>\n",
       "  </tbody>\n",
       "</table>\n",
       "<p>1000 rows × 4 columns</p>\n",
       "</div>"
      ],
      "text/plain": [
       "        id        mu         w   weights\n",
       "0    16007 -6.427658  0.846737  0.001047\n",
       "1    16008 -5.011803  0.902401  0.000839\n",
       "2    16009 -4.239903  0.827656  0.000867\n",
       "3    16010 -5.597021  0.807081  0.001442\n",
       "4    16011 -5.001607  0.820917  0.000969\n",
       "..     ...       ...       ...       ...\n",
       "995  17002 -6.269480  0.934666  0.000883\n",
       "996  17003 -6.587575  0.903803  0.000921\n",
       "997  17004 -4.355379  0.749051  0.000818\n",
       "998  17005 -4.091867  0.665115  0.001135\n",
       "999  17006 -4.786143  0.903272  0.000844\n",
       "\n",
       "[1000 rows x 4 columns]"
      ]
     },
     "execution_count": 6,
     "metadata": {},
     "output_type": "execute_result"
    }
   ],
   "source": [
    "df"
   ]
  },
  {
   "cell_type": "code",
   "execution_count": 7,
   "id": "stupid-catch",
   "metadata": {},
   "outputs": [
    {
     "data": {
      "text/plain": [
       "-5.325062726272048"
      ]
     },
     "execution_count": 7,
     "metadata": {},
     "output_type": "execute_result"
    }
   ],
   "source": [
    "df.mu.mean()"
   ]
  }
 ],
 "metadata": {
  "kernelspec": {
   "display_name": "Python 3",
   "language": "python",
   "name": "python3"
  },
  "language_info": {
   "codemirror_mode": {
    "name": "ipython",
    "version": 3
   },
   "file_extension": ".py",
   "mimetype": "text/x-python",
   "name": "python",
   "nbconvert_exporter": "python",
   "pygments_lexer": "ipython3",
   "version": "3.7.6"
  }
 },
 "nbformat": 4,
 "nbformat_minor": 5
}
