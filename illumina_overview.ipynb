{
 "cells": [
  {
   "cell_type": "code",
   "execution_count": 1,
   "metadata": {},
   "outputs": [],
   "source": [
    "import os\n",
    "import pandas as pd\n",
    "from matplotlib import pyplot as plt\n",
    "from utils import set_plots_size_params, plot_overview "
   ]
  },
  {
   "cell_type": "code",
   "execution_count": 2,
   "metadata": {},
   "outputs": [],
   "source": [
    "stuff_in_this_dir = os.listdir()\n",
    "freqs = {}\n",
    "for thing in stuff_in_this_dir:\n",
    "    if thing.startswith('p'):\n",
    "        freqs_file = os.listdir(thing)[0]\n",
    "        freqs_name = freqs_file.split('.')[0]\n",
    "        passage, km = freqs_name.split(\"-\")\n",
    "        passage = passage[1:]\n",
    "        km = km[-1]\n",
    "        freqs[freqs_name] = pd.read_table(os.path.join(thing, freqs_file))\n",
    "        freqs[freqs_name]['passage'] = passage\n",
    "        freqs[freqs_name]['km'] = km"
   ]
  },
  {
   "cell_type": "code",
   "execution_count": 3,
   "metadata": {},
   "outputs": [
    {
     "data": {
      "text/plain": [
       "dict_keys(['p7-KM2', 'p9-KM3', 'p3-KM2', 'p5-KM3', 'p10-KM1', 'p3-KM1', 'p5-KM2', 'p10-KM3', 'p1-KM2', 'p7-KM3', 'p10-KM2', 'p3-KM3', 'p1-KM1', 'p1-KM3', 'p7-KM1', 'p5-KM1'])"
      ]
     },
     "execution_count": 3,
     "metadata": {},
     "output_type": "execute_result"
    }
   ],
   "source": [
    "freqs.keys()"
   ]
  },
  {
   "cell_type": "code",
   "execution_count": 4,
   "metadata": {},
   "outputs": [],
   "source": [
    "km1 = {key: df for key, df in freqs.items() if key[-1]==\"1\"}\n",
    "km2 = {key: df for key, df in freqs.items() if key[-1]==\"2\"}\n",
    "km3 = {key: df for key, df in freqs.items() if key[-1]==\"3\"}"
   ]
  },
  {
   "cell_type": "code",
   "execution_count": 5,
   "metadata": {},
   "outputs": [
    {
     "data": {
      "text/plain": [
       "dict_keys(['p10-KM1', 'p3-KM1', 'p1-KM1', 'p7-KM1', 'p5-KM1'])"
      ]
     },
     "execution_count": 5,
     "metadata": {},
     "output_type": "execute_result"
    }
   ],
   "source": [
    "km1.keys()"
   ]
  },
  {
   "cell_type": "code",
   "execution_count": 6,
   "metadata": {},
   "outputs": [
    {
     "data": {
      "text/plain": [
       "dict_keys(['p9-KM3', 'p5-KM3', 'p10-KM3', 'p7-KM3', 'p3-KM3', 'p1-KM3'])"
      ]
     },
     "execution_count": 6,
     "metadata": {},
     "output_type": "execute_result"
    }
   ],
   "source": [
    "km3.keys()"
   ]
  },
  {
   "cell_type": "code",
   "execution_count": 7,
   "metadata": {},
   "outputs": [],
   "source": [
    "freqs = pd.concat(freqs.values())"
   ]
  },
  {
   "cell_type": "code",
   "execution_count": 8,
   "metadata": {},
   "outputs": [],
   "source": [
    "freqs['km'] = freqs['km'].astype(int)\n",
    "freqs['passage'] = freqs['passage'].astype(int)\n",
    "freqs.sort_values(['km','passage','Pos'], inplace=True)"
   ]
  },
  {
   "cell_type": "code",
   "execution_count": null,
   "metadata": {
    "scrolled": false
   },
   "outputs": [],
   "source": [
    "plt.figure(figsize=(20, 10))\n",
    "for km in freqs.km.unique():\n",
    "    for pas in freqs.passage.unique():\n",
    "        df = freqs[freqs.km==km]\n",
    "        df = df[df.passage==pas]\n",
    "        plt.scatter(df.Pos, df.Read_count, label=f\"KM:{km} Passage:{pas}\")\n",
    "plt.legend(bbox_to_anchor=(1, 1))\n",
    "#plt.savefig('illumina_coverage.png')"
   ]
  },
  {
   "cell_type": "code",
   "execution_count": null,
   "metadata": {
    "scrolled": true
   },
   "outputs": [],
   "source": [
    "set_plots_size_params(20)\n",
    "fig, axes = plot_overview(freqs)"
   ]
  },
  {
   "cell_type": "code",
   "execution_count": null,
   "metadata": {},
   "outputs": [],
   "source": [
    "#fig.savefig('illumina_overview.png')"
   ]
  }
 ],
 "metadata": {
  "kernelspec": {
   "display_name": "Python 3",
   "language": "python",
   "name": "python3"
  },
  "language_info": {
   "codemirror_mode": {
    "name": "ipython",
    "version": 3
   },
   "file_extension": ".py",
   "mimetype": "text/x-python",
   "name": "python",
   "nbconvert_exporter": "python",
   "pygments_lexer": "ipython3",
   "version": "3.7.6"
  }
 },
 "nbformat": 4,
 "nbformat_minor": 4
}
