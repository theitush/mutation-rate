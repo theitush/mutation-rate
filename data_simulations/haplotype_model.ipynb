{
 "cells": [
  {
   "cell_type": "code",
   "execution_count": 1,
   "id": "98cfc5f6",
   "metadata": {},
   "outputs": [],
   "source": [
    "import numpy as np\n",
    "import pandas as pd\n",
    "import matplotlib.pyplot as plt\n",
    "import seaborn as sns"
   ]
  },
  {
   "cell_type": "code",
   "execution_count": 2,
   "id": "cc0e2b0d",
   "metadata": {},
   "outputs": [],
   "source": [
    "class Genome:\n",
    "    #TODO: refactor this as a modulo matrix\n",
    "    def __init__(self, mutations, genome_length):\n",
    "        self.mutations = mutations\n",
    "        self.genome_length = genome_length\n",
    "    \n",
    "    def get_fitness(self, fitness_landscape):\n",
    "        if isinstance(fitness_landscape, int):\n",
    "            return 1\n",
    "        if len(self.mutations)==0:\n",
    "            return 1\n",
    "        fitnesses = []\n",
    "        for position, mutation in self.mutations.items():\n",
    "            fitnesses.append(fitness_landscape.loc[(position, mutation)])\n",
    "        return np.product(fitnesses)\n",
    "                \n",
    "    def mutate(self, number_of_mutations):\n",
    "        new_mutations_positions = np.random.randint(0, self.genome_length, number_of_mutations)\n",
    "        for position in new_mutations_positions:\n",
    "            possible_mutations = set(range(1,4))\n",
    "            if position in self.mutations.keys():\n",
    "                possible_mutations = set(range(4)) - {self.mutations[position]}\n",
    "            mutation = np.random.choice(list(possible_mutations))\n",
    "            if mutation == 0:\n",
    "                del self.mutations[position]  # no need to remember a lack of a mutation\n",
    "            else:\n",
    "                self.mutations[position] = mutation\n",
    "\n",
    "\n",
    "def create_fitness_landscape(A,B, genome_length):\n",
    "    dummy_records = []\n",
    "    for position in range(genome_length):\n",
    "        for mutation in range(4):\n",
    "            dummy_records.append({'position': position, 'mutation': mutation})\n",
    "    fitness_landscape = pd.DataFrame.from_records(dummy_records)\n",
    "    fitness_landscape['fitness'] = 1  # first we give everyone fitness 1\n",
    "    # then everything with a mutation get a different fitness from out distribution\n",
    "    fitness_landscape.loc[fitness_landscape['mutation']!=0, 'fitness'] = np.random.gamma(A,B, genome_length*3)\n",
    "    return fitness_landscape.set_index(['position', 'mutation'])\n",
    "        \n",
    "    \n",
    "def normalize(array):\n",
    "    return array / np.linalg.norm(array, ord=1)\n",
    "\n",
    "\n",
    "def get_next_genomes(passage_df, num_of_genomes_to_simulate, genome_length, fitness_landscape):\n",
    "    # TODO: refactor this to just sample with(?) return from freqs.\n",
    "    genomes = []\n",
    "    rounded_freqs = round(normalize(passage_df.groupby('muts')['fitness'].sum()), \n",
    "                          int(np.log10(num_of_genomes_to_simulate)))\n",
    "    genomes_freqs = (rounded_freqs * num_of_genomes_to_simulate).astype(int)\n",
    "    genomes_freqs = genomes_freqs[genomes_freqs>0]\n",
    "    for mutations, number_of_genomes in genomes_freqs.iteritems():\n",
    "        mutations_dict = dict()\n",
    "        if mutations != \"\":\n",
    "            for mutation_datum in mutations.split('_'):\n",
    "                position, mutation = mutation_datum.split('-')\n",
    "                mutations_dict[int(position)] = int(mutation)\n",
    "        for i in range(number_of_genomes):\n",
    "            genomes.append(Genome(mutations=mutations_dict.copy(), genome_length=genome_length))\n",
    "    return genomes\n",
    "    \n",
    "    \n",
    "def mutations_to_string(mutations):\n",
    "    return '_'.join([str(position)+'-'+str(mutation) for position, mutation in sorted(mutations.items())])\n",
    "\n",
    "\n",
    "def model(A, B, U, genome_length, number_of_passages, num_of_genomes_to_simulate, syns=False):\n",
    "    if syns:\n",
    "        fitness_landscape = 1\n",
    "    else:\n",
    "        fitness_landscape = create_fitness_landscape(A,B, genome_length)\n",
    "    genomes = []\n",
    "    passage_dfs = []\n",
    "    for i in range(num_of_genomes_to_simulate):\n",
    "        genomes.append(Genome(mutations=dict(), genome_length=genome_length))\n",
    "    for p in range(1, number_of_passages+1):\n",
    "        passage_data = []\n",
    "        for j in range(len(genomes)):\n",
    "            number_of_new_mutations = np.random.poisson(U)\n",
    "            genomes[j].mutate(number_of_new_mutations)\n",
    "            passage_data.append({'mutations': genomes[j].mutations, \n",
    "                                 'fitness': genomes[j].get_fitness(fitness_landscape), \n",
    "                                 'passage': p})\n",
    "        passage_df = pd.DataFrame.from_records(passage_data)\n",
    "        passage_df['muts'] = passage_df['mutations'].map(mutations_to_string)\n",
    "        passage_dfs.append(passage_df)\n",
    "        genomes = get_next_genomes(passage_df, num_of_genomes_to_simulate, genome_length, fitness_landscape)\n",
    "    data = pd.concat(passage_dfs)\n",
    "    data['mut_num'] = data['muts'].str.count('_') + 1\n",
    "    data.loc[data['muts']=='', 'mut_num'] = 0\n",
    "    freqs = data.groupby('passage').muts.value_counts(normalize=True)\n",
    "    freqs.name = 'freq'\n",
    "    freqs = freqs.reset_index().merge(data, how='left', on=['muts','passage'])\n",
    "    freqs = freqs.drop_duplicates(['mut_num', 'passage', 'freq'])\n",
    "    return data, freqs.reset_index(drop=True)"
   ]
  },
  {
   "cell_type": "markdown",
   "id": "402024c4",
   "metadata": {},
   "source": [
    "## These will be our parameters to play with:"
   ]
  },
  {
   "cell_type": "code",
   "execution_count": 3,
   "id": "d5fdf7bf",
   "metadata": {},
   "outputs": [],
   "source": [
    "A = 2\n",
    "B = 0.2\n",
    "U = 0.2\n",
    "genome_length = 3560\n",
    "number_of_passages = 10\n",
    "num_of_genomes_to_simulate = 1000 # more genomes means less drift and longer calculation"
   ]
  },
  {
   "cell_type": "code",
   "execution_count": 4,
   "id": "787b4d88",
   "metadata": {},
   "outputs": [
    {
     "data": {
      "text/plain": [
       "<AxesSubplot:ylabel='Count'>"
      ]
     },
     "execution_count": 4,
     "metadata": {},
     "output_type": "execute_result"
    },
    {
     "data": {
      "image/png": "[encoded data removed]",
      "text/plain": [
       "<Figure size 432x288 with 1 Axes>"
      ]
     },
     "metadata": {
      "needs_background": "light"
     },
     "output_type": "display_data"
    }
   ],
   "source": [
    "sns.histplot(np.random.gamma(A,B, 1000))  # this is our example fitness landscape"
   ]
  },
  {
   "cell_type": "code",
   "execution_count": 5,
   "id": "19c40283",
   "metadata": {},
   "outputs": [],
   "source": [
    "# running with all fitness = 1\n",
    "syns, syns_freqs = model(A, B, U, genome_length, number_of_passages, num_of_genomes_to_simulate, syns=True)"
   ]
  },
  {
   "cell_type": "code",
   "execution_count": 6,
   "id": "d19899fb",
   "metadata": {},
   "outputs": [],
   "source": [
    "# running with the fitness landscape as given by A,B above\n",
    "genomes, freqs = model(A, B, U, genome_length, number_of_passages, num_of_genomes_to_simulate, syns=False)"
   ]
  },
  {
   "cell_type": "code",
   "execution_count": 7,
   "id": "b2ed1d01",
   "metadata": {},
   "outputs": [
    {
     "data": {
      "text/plain": [
       "Text(0.5, 1.0, 'Just Syns')"
      ]
     },
     "execution_count": 7,
     "metadata": {},
     "output_type": "execute_result"
    },
    {
     "data": {
      "image/png": "[encoded data removed]",
      "text/plain": [
       "<Figure size 432x288 with 1 Axes>"
      ]
     },
     "metadata": {
      "needs_background": "light"
     },
     "output_type": "display_data"
    }
   ],
   "source": [
    "sns.kdeplot(syns[syns.passage==3].mut_num, bw_adjust=0.3, label='p 3')\n",
    "sns.kdeplot(syns[syns.passage==7].mut_num, bw_adjust=0.3, label='p 7')\n",
    "sns.kdeplot(syns[syns.passage==10].mut_num, bw_adjust=0.3, label='p 10')\n",
    "plt.legend()\n",
    "plt.title(\"Just Syns\")"
   ]
  },
  {
   "cell_type": "code",
   "execution_count": 8,
   "id": "ea8bb8c6",
   "metadata": {},
   "outputs": [
    {
     "data": {
      "text/plain": [
       "Text(0.5, 1.0, 'With Fitness Landscape')"
      ]
     },
     "execution_count": 8,
     "metadata": {},
     "output_type": "execute_result"
    },
    {
     "data": {
      "image/png": "[encoded data removed]",
      "text/plain": [
       "<Figure size 432x288 with 1 Axes>"
      ]
     },
     "metadata": {
      "needs_background": "light"
     },
     "output_type": "display_data"
    }
   ],
   "source": [
    "sns.kdeplot(genomes[genomes.passage==3].mut_num, bw_adjust=0.3, label='p 3')\n",
    "sns.kdeplot(genomes[genomes.passage==7].mut_num, bw_adjust=0.3, label='p 7')\n",
    "sns.kdeplot(genomes[genomes.passage==10].mut_num, bw_adjust=0.3, label='p 10')\n",
    "plt.legend()\n",
    "plt.title(\"With Fitness Landscape\")"
   ]
  },
  {
   "cell_type": "code",
   "execution_count": 9,
   "id": "adcafda2",
   "metadata": {},
   "outputs": [
    {
     "data": {
      "text/plain": [
       "<matplotlib.legend.Legend at 0x7f2b1e5d7e50>"
      ]
     },
     "execution_count": 9,
     "metadata": {},
     "output_type": "execute_result"
    },
    {
     "data": {
      "image/png": "[encoded data removed]",
      "text/plain": [
       "<Figure size 432x288 with 1 Axes>"
      ]
     },
     "metadata": {
      "needs_background": "light"
     },
     "output_type": "display_data"
    }
   ],
   "source": [
    "syns_ratios = syns.groupby('passage').muts.nunique() / syns.groupby('passage').muts.count() \n",
    "asd = genomes.groupby('passage').muts.nunique() / genomes.groupby('passage').muts.count() \n",
    "plt.scatter(syns_ratios.index, syns_ratios, label='just syns')\n",
    "plt.scatter(asd.index, asd, label='with fitness landscape')\n",
    "plt.title('Ratio of unique alignments')\n",
    "plt.xlabel('passage')\n",
    "plt.legend()"
   ]
  },
  {
   "cell_type": "code",
   "execution_count": 10,
   "id": "7b856e5c",
   "metadata": {},
   "outputs": [
    {
     "data": {
      "text/plain": [
       "Text(0, 0.5, 'frequency')"
      ]
     },
     "execution_count": 10,
     "metadata": {},
     "output_type": "execute_result"
    },
    {
     "data": {
      "image/png": "[encoded data removed]",
      "text/plain": [
       "<Figure size 432x288 with 1 Axes>"
      ]
     },
     "metadata": {
      "needs_background": "light"
     },
     "output_type": "display_data"
    }
   ],
   "source": [
    "frequent_muts = freqs[(freqs.passage==10) & (freqs.muts!=\"\")].sort_values('freq', ascending=False).head(10)['muts']\n",
    "for mutation in frequent_muts:\n",
    "    tmp = freqs[freqs.muts==mutation]\n",
    "    plt.plot(tmp.passage, tmp.freq, label=mutation)\n",
    "plt.legend(bbox_to_anchor=(1,1))\n",
    "plt.title('Aaptive Mtations')\n",
    "plt.xlabel('passage')\n",
    "plt.ylabel('frequency')"
   ]
  },
  {
   "cell_type": "code",
   "execution_count": 11,
   "id": "cb2f770d",
   "metadata": {},
   "outputs": [
    {
     "data": {
      "text/html": [
       "<div>\n",
       "<style scoped>\n",
       "    .dataframe tbody tr th:only-of-type {\n",
       "        vertical-align: middle;\n",
       "    }\n",
       "\n",
       "    .dataframe tbody tr th {\n",
       "        vertical-align: top;\n",
       "    }\n",
       "\n",
       "    .dataframe thead th {\n",
       "        text-align: right;\n",
       "    }\n",
       "</style>\n",
       "<table border=\"1\" class=\"dataframe\">\n",
       "  <thead>\n",
       "    <tr style=\"text-align: right;\">\n",
       "      <th></th>\n",
       "      <th>passage</th>\n",
       "      <th>muts</th>\n",
       "      <th>freq</th>\n",
       "      <th>mutations</th>\n",
       "      <th>fitness</th>\n",
       "      <th>mut_num</th>\n",
       "    </tr>\n",
       "  </thead>\n",
       "  <tbody>\n",
       "    <tr>\n",
       "      <th>87</th>\n",
       "      <td>10</td>\n",
       "      <td></td>\n",
       "      <td>0.440394</td>\n",
       "      <td>{}</td>\n",
       "      <td>1.000000</td>\n",
       "      <td>0</td>\n",
       "    </tr>\n",
       "    <tr>\n",
       "      <th>88</th>\n",
       "      <td>10</td>\n",
       "      <td>2015-1</td>\n",
       "      <td>0.063054</td>\n",
       "      <td>{2015: 1}</td>\n",
       "      <td>1.798589</td>\n",
       "      <td>1</td>\n",
       "    </tr>\n",
       "    <tr>\n",
       "      <th>89</th>\n",
       "      <td>10</td>\n",
       "      <td>1046-2</td>\n",
       "      <td>0.024631</td>\n",
       "      <td>{1046: 2}</td>\n",
       "      <td>1.574720</td>\n",
       "      <td>1</td>\n",
       "    </tr>\n",
       "    <tr>\n",
       "      <th>90</th>\n",
       "      <td>10</td>\n",
       "      <td>3536-3</td>\n",
       "      <td>0.019704</td>\n",
       "      <td>{3536: 3}</td>\n",
       "      <td>2.039044</td>\n",
       "      <td>1</td>\n",
       "    </tr>\n",
       "    <tr>\n",
       "      <th>91</th>\n",
       "      <td>10</td>\n",
       "      <td>3391-1</td>\n",
       "      <td>0.015764</td>\n",
       "      <td>{3391: 1}</td>\n",
       "      <td>1.882255</td>\n",
       "      <td>1</td>\n",
       "    </tr>\n",
       "    <tr>\n",
       "      <th>92</th>\n",
       "      <td>10</td>\n",
       "      <td>188-1_2015-1</td>\n",
       "      <td>0.012808</td>\n",
       "      <td>{188: 1, 2015: 1}</td>\n",
       "      <td>1.806000</td>\n",
       "      <td>2</td>\n",
       "    </tr>\n",
       "    <tr>\n",
       "      <th>93</th>\n",
       "      <td>10</td>\n",
       "      <td>2698-3</td>\n",
       "      <td>0.010837</td>\n",
       "      <td>{2698: 3}</td>\n",
       "      <td>1.469081</td>\n",
       "      <td>1</td>\n",
       "    </tr>\n",
       "    <tr>\n",
       "      <th>94</th>\n",
       "      <td>10</td>\n",
       "      <td>2015-1_3431-1</td>\n",
       "      <td>0.006897</td>\n",
       "      <td>{2015: 1, 3431: 1}</td>\n",
       "      <td>1.596389</td>\n",
       "      <td>2</td>\n",
       "    </tr>\n",
       "    <tr>\n",
       "      <th>95</th>\n",
       "      <td>10</td>\n",
       "      <td>1408-3</td>\n",
       "      <td>0.005911</td>\n",
       "      <td>{1408: 3}</td>\n",
       "      <td>1.321097</td>\n",
       "      <td>1</td>\n",
       "    </tr>\n",
       "    <tr>\n",
       "      <th>97</th>\n",
       "      <td>10</td>\n",
       "      <td>70-3</td>\n",
       "      <td>0.003941</td>\n",
       "      <td>{70: 3}</td>\n",
       "      <td>1.294597</td>\n",
       "      <td>1</td>\n",
       "    </tr>\n",
       "    <tr>\n",
       "      <th>96</th>\n",
       "      <td>10</td>\n",
       "      <td>188-1_2015-1_2173-1</td>\n",
       "      <td>0.003941</td>\n",
       "      <td>{188: 1, 2015: 1, 2173: 1}</td>\n",
       "      <td>2.124314</td>\n",
       "      <td>3</td>\n",
       "    </tr>\n",
       "    <tr>\n",
       "      <th>98</th>\n",
       "      <td>10</td>\n",
       "      <td>1173-3_3391-1</td>\n",
       "      <td>0.002956</td>\n",
       "      <td>{1173: 3, 3391: 1}</td>\n",
       "      <td>3.017289</td>\n",
       "      <td>2</td>\n",
       "    </tr>\n",
       "    <tr>\n",
       "      <th>99</th>\n",
       "      <td>10</td>\n",
       "      <td>3437-2</td>\n",
       "      <td>0.002956</td>\n",
       "      <td>{3437: 2}</td>\n",
       "      <td>1.358533</td>\n",
       "      <td>1</td>\n",
       "    </tr>\n",
       "    <tr>\n",
       "      <th>100</th>\n",
       "      <td>10</td>\n",
       "      <td>1135-2_2015-1_3431-1</td>\n",
       "      <td>0.001970</td>\n",
       "      <td>{1135: 2, 2015: 1, 3431: 1}</td>\n",
       "      <td>1.664102</td>\n",
       "      <td>3</td>\n",
       "    </tr>\n",
       "    <tr>\n",
       "      <th>101</th>\n",
       "      <td>10</td>\n",
       "      <td>1749-3</td>\n",
       "      <td>0.001970</td>\n",
       "      <td>{1749: 3}</td>\n",
       "      <td>0.479667</td>\n",
       "      <td>1</td>\n",
       "    </tr>\n",
       "    <tr>\n",
       "      <th>102</th>\n",
       "      <td>10</td>\n",
       "      <td>2698-3_2985-1</td>\n",
       "      <td>0.001970</td>\n",
       "      <td>{2698: 3, 2985: 1}</td>\n",
       "      <td>1.423433</td>\n",
       "      <td>2</td>\n",
       "    </tr>\n",
       "    <tr>\n",
       "      <th>103</th>\n",
       "      <td>10</td>\n",
       "      <td>1009-1_2015-1</td>\n",
       "      <td>0.000985</td>\n",
       "      <td>{2015: 1, 1009: 1}</td>\n",
       "      <td>0.864524</td>\n",
       "      <td>2</td>\n",
       "    </tr>\n",
       "    <tr>\n",
       "      <th>104</th>\n",
       "      <td>10</td>\n",
       "      <td>1031-2</td>\n",
       "      <td>0.000985</td>\n",
       "      <td>{1031: 2}</td>\n",
       "      <td>0.305422</td>\n",
       "      <td>1</td>\n",
       "    </tr>\n",
       "    <tr>\n",
       "      <th>105</th>\n",
       "      <td>10</td>\n",
       "      <td>1046-2_2421-3_3421-3</td>\n",
       "      <td>0.000985</td>\n",
       "      <td>{1046: 2, 2421: 3, 3421: 3}</td>\n",
       "      <td>0.138022</td>\n",
       "      <td>3</td>\n",
       "    </tr>\n",
       "    <tr>\n",
       "      <th>106</th>\n",
       "      <td>10</td>\n",
       "      <td>1225-2_1630-3_2015-1_3538-1</td>\n",
       "      <td>0.000985</td>\n",
       "      <td>{2015: 1, 3538: 1, 1630: 3, 1225: 2}</td>\n",
       "      <td>0.105423</td>\n",
       "      <td>4</td>\n",
       "    </tr>\n",
       "  </tbody>\n",
       "</table>\n",
       "</div>"
      ],
      "text/plain": [
       "     passage                         muts      freq  \\\n",
       "87        10                               0.440394   \n",
       "88        10                       2015-1  0.063054   \n",
       "89        10                       1046-2  0.024631   \n",
       "90        10                       3536-3  0.019704   \n",
       "91        10                       3391-1  0.015764   \n",
       "92        10                 188-1_2015-1  0.012808   \n",
       "93        10                       2698-3  0.010837   \n",
       "94        10                2015-1_3431-1  0.006897   \n",
       "95        10                       1408-3  0.005911   \n",
       "97        10                         70-3  0.003941   \n",
       "96        10          188-1_2015-1_2173-1  0.003941   \n",
       "98        10                1173-3_3391-1  0.002956   \n",
       "99        10                       3437-2  0.002956   \n",
       "100       10         1135-2_2015-1_3431-1  0.001970   \n",
       "101       10                       1749-3  0.001970   \n",
       "102       10                2698-3_2985-1  0.001970   \n",
       "103       10                1009-1_2015-1  0.000985   \n",
       "104       10                       1031-2  0.000985   \n",
       "105       10         1046-2_2421-3_3421-3  0.000985   \n",
       "106       10  1225-2_1630-3_2015-1_3538-1  0.000985   \n",
       "\n",
       "                                mutations   fitness  mut_num  \n",
       "87                                     {}  1.000000        0  \n",
       "88                              {2015: 1}  1.798589        1  \n",
       "89                              {1046: 2}  1.574720        1  \n",
       "90                              {3536: 3}  2.039044        1  \n",
       "91                              {3391: 1}  1.882255        1  \n",
       "92                      {188: 1, 2015: 1}  1.806000        2  \n",
       "93                              {2698: 3}  1.469081        1  \n",
       "94                     {2015: 1, 3431: 1}  1.596389        2  \n",
       "95                              {1408: 3}  1.321097        1  \n",
       "97                                {70: 3}  1.294597        1  \n",
       "96             {188: 1, 2015: 1, 2173: 1}  2.124314        3  \n",
       "98                     {1173: 3, 3391: 1}  3.017289        2  \n",
       "99                              {3437: 2}  1.358533        1  \n",
       "100           {1135: 2, 2015: 1, 3431: 1}  1.664102        3  \n",
       "101                             {1749: 3}  0.479667        1  \n",
       "102                    {2698: 3, 2985: 1}  1.423433        2  \n",
       "103                    {2015: 1, 1009: 1}  0.864524        2  \n",
       "104                             {1031: 2}  0.305422        1  \n",
       "105           {1046: 2, 2421: 3, 3421: 3}  0.138022        3  \n",
       "106  {2015: 1, 3538: 1, 1630: 3, 1225: 2}  0.105423        4  "
      ]
     },
     "execution_count": 11,
     "metadata": {},
     "output_type": "execute_result"
    }
   ],
   "source": [
    "freqs[freqs.passage==10].sort_values('freq', ascending=False)"
   ]
  },
  {
   "cell_type": "code",
   "execution_count": null,
   "id": "f2becbd1",
   "metadata": {},
   "outputs": [],
   "source": []
  }
 ],
 "metadata": {
  "kernelspec": {
   "display_name": "Python 3",
   "language": "python",
   "name": "python3"
  },
  "language_info": {
   "codemirror_mode": {
    "name": "ipython",
    "version": 3
   },
   "file_extension": ".py",
   "mimetype": "text/x-python",
   "name": "python",
   "nbconvert_exporter": "python",
   "pygments_lexer": "ipython3",
   "version": "3.7.6"
  }
 },
 "nbformat": 4,
 "nbformat_minor": 5
}
